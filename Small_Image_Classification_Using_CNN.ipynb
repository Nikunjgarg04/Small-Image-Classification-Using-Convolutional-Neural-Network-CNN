{
  "nbformat": 4,
  "nbformat_minor": 0,
  "metadata": {
    "colab": {
      "name": "Small Image Classification Using CNN.ipynb",
      "provenance": [],
      "collapsed_sections": []
    },
    "kernelspec": {
      "name": "python3",
      "display_name": "Python 3"
    }
  },
  "cells": [
    {
      "cell_type": "markdown",
      "metadata": {
        "id": "76xm1HK-02gJ"
      },
      "source": [
        "In this notebook, we will classify small images cifar10 dataset from tensorflow keras datasets. There are total 10 classes as shown below. We will use CNN for classification\r\n",
        "\r\n"
      ]
    },
    {
      "cell_type": "code",
      "metadata": {
        "id": "mHKpr9k7oTuA"
      },
      "source": [
        "import tensorflow as tf\r\n",
        "from tensorflow.keras import datasets, layers, models\r\n",
        "import matplotlib.pyplot as plt\r\n",
        "import numpy as np"
      ],
      "execution_count": 2,
      "outputs": []
    },
    {
      "cell_type": "code",
      "metadata": {
        "colab": {
          "base_uri": "https://localhost:8080/"
        },
        "id": "F_e3X3gvozwL",
        "outputId": "fd761501-abdf-474b-984b-ab030162a9d9"
      },
      "source": [
        "(X_train, y_train), (X_test, y_test) = datasets.cifar10.load_data()"
      ],
      "execution_count": 3,
      "outputs": [
        {
          "output_type": "stream",
          "text": [
            "Downloading data from https://www.cs.toronto.edu/~kriz/cifar-10-python.tar.gz\n",
            "170500096/170498071 [==============================] - 11s 0us/step\n"
          ],
          "name": "stdout"
        }
      ]
    },
    {
      "cell_type": "code",
      "metadata": {
        "colab": {
          "base_uri": "https://localhost:8080/"
        },
        "id": "hRV4HYxFsoOP",
        "outputId": "6df843b8-8e02-448a-e358-5eb2bc4f25c8"
      },
      "source": [
        "X_train.shape"
      ],
      "execution_count": 4,
      "outputs": [
        {
          "output_type": "execute_result",
          "data": {
            "text/plain": [
              "(50000, 32, 32, 3)"
            ]
          },
          "metadata": {
            "tags": []
          },
          "execution_count": 4
        }
      ]
    },
    {
      "cell_type": "code",
      "metadata": {
        "id": "Hw4tJlqrtput"
      },
      "source": [
        "y_train=y_train.reshape(-1,)\r\n",
        "y_test=y_test.reshape(-1,)"
      ],
      "execution_count": 5,
      "outputs": []
    },
    {
      "cell_type": "code",
      "metadata": {
        "id": "9-UP2bojuAy5"
      },
      "source": [
        "classes = [\"airplane\",\"automobile\",\"bird\",\"cat\",\"deer\",\"dog\",\"frog\",\"horse\",\"ship\",\"truck\"]"
      ],
      "execution_count": 6,
      "outputs": []
    },
    {
      "cell_type": "code",
      "metadata": {
        "id": "V4lDoBIfuBDD"
      },
      "source": [
        "def plot_sample(X,y,index):\r\n",
        "  plt.figure(figsize=(15,2))\r\n",
        "  plt.imshow(X[index])\r\n",
        "  plt.xlabel(classes[y[index]])"
      ],
      "execution_count": 7,
      "outputs": []
    },
    {
      "cell_type": "code",
      "metadata": {
        "colab": {
          "base_uri": "https://localhost:8080/",
          "height": 173
        },
        "id": "cnBaHlkaVXOn",
        "outputId": "b8b8619a-229d-48d0-cd52-aeee179693a1"
      },
      "source": [
        "plot_sample(X_train,y_train,1)"
      ],
      "execution_count": 8,
      "outputs": [
        {
          "output_type": "display_data",
          "data": {
            "image/png": "[encoded data removed]",
            "text/plain": [
              "<Figure size 1080x144 with 1 Axes>"
            ]
          },
          "metadata": {
            "tags": [],
            "needs_background": "light"
          }
        }
      ]
    },
    {
      "cell_type": "markdown",
      "metadata": {
        "id": "aGUQGxogVt_p"
      },
      "source": [
        "Normalizing the training data"
      ]
    },
    {
      "cell_type": "code",
      "metadata": {
        "id": "os5NF4N8VXeB"
      },
      "source": [
        "X_train=X_train/255.0\r\n",
        "X_test=X_test/255.0"
      ],
      "execution_count": 9,
      "outputs": []
    },
    {
      "cell_type": "markdown",
      "metadata": {
        "id": "kx2sP9I1WbsS"
      },
      "source": [
        "Build simple artificial neural network for image classification"
      ]
    },
    {
      "cell_type": "code",
      "metadata": {
        "colab": {
          "base_uri": "https://localhost:8080/"
        },
        "id": "9D0rMjC0VXsl",
        "outputId": "cc2e7aea-2286-4864-8f72-d4919ed438e2"
      },
      "source": [
        "ann=models.Sequential([\r\n",
        "                      layers.Flatten(input_shape=(32,32,3)),\r\n",
        "                      layers.Dense(3000,activation='relu'),\r\n",
        "                      layers.Dense(1000,activation='relu'),\r\n",
        "                      layers.Dense(10,activation='sigmoid')])\r\n",
        "ann.compile(optimizer='SGD',\r\n",
        "            loss=\"sparse_categorical_crossentropy\",\r\n",
        "            metrics=['accuracy'])\r\n",
        "ann.fit(X_train,y_train,epochs=5)"
      ],
      "execution_count": 11,
      "outputs": [
        {
          "output_type": "stream",
          "text": [
            "Epoch 1/5\n",
            "1563/1563 [==============================] - 105s 67ms/step - loss: 1.9251 - accuracy: 0.3056\n",
            "Epoch 2/5\n",
            "1563/1563 [==============================] - 104s 67ms/step - loss: 1.6448 - accuracy: 0.4203\n",
            "Epoch 3/5\n",
            "1563/1563 [==============================] - 106s 68ms/step - loss: 1.5590 - accuracy: 0.4479\n",
            "Epoch 4/5\n",
            "1563/1563 [==============================] - 107s 68ms/step - loss: 1.4947 - accuracy: 0.4697\n",
            "Epoch 5/5\n",
            "1563/1563 [==============================] - 107s 69ms/step - loss: 1.4329 - accuracy: 0.4980\n"
          ],
          "name": "stdout"
        },
        {
          "output_type": "execute_result",
          "data": {
            "text/plain": [
              "<tensorflow.python.keras.callbacks.History at 0x7f33fc2143c8>"
            ]
          },
          "metadata": {
            "tags": []
          },
          "execution_count": 11
        }
      ]
    },
    {
      "cell_type": "code",
      "metadata": {
        "colab": {
          "base_uri": "https://localhost:8080/"
        },
        "id": "WBOBDrTJVX4D",
        "outputId": "b6453174-5b60-4bb0-e7df-85f7b0f69fed"
      },
      "source": [
        "from sklearn.metrics import confusion_matrix, classification_report\r\n",
        "import numpy as np\r\n",
        "y_pred=ann.predict(X_test)\r\n",
        "y_pred_classes=[np.argmax(element) for element in y_pred]\r\n",
        "\r\n",
        "print(\"Classification Report: \\n\", classification_report(y_test, y_pred_classes))"
      ],
      "execution_count": 12,
      "outputs": [
        {
          "output_type": "stream",
          "text": [
            "Classification Report: \n",
            "               precision    recall  f1-score   support\n",
            "\n",
            "           0       0.53      0.54      0.54      1000\n",
            "           1       0.72      0.46      0.56      1000\n",
            "           2       0.28      0.57      0.38      1000\n",
            "           3       0.40      0.26      0.31      1000\n",
            "           4       0.40      0.31      0.35      1000\n",
            "           5       0.56      0.21      0.31      1000\n",
            "           6       0.43      0.68      0.53      1000\n",
            "           7       0.55      0.55      0.55      1000\n",
            "           8       0.63      0.61      0.62      1000\n",
            "           9       0.56      0.57      0.57      1000\n",
            "\n",
            "    accuracy                           0.48     10000\n",
            "   macro avg       0.51      0.47      0.47     10000\n",
            "weighted avg       0.51      0.47      0.47     10000\n",
            "\n"
          ],
          "name": "stdout"
        }
      ]
    },
    {
      "cell_type": "markdown",
      "metadata": {
        "id": "St6UwQR5mN10"
      },
      "source": [
        "**convolutional neural network to train our images**"
      ]
    },
    {
      "cell_type": "code",
      "metadata": {
        "id": "j-y3TGb2mIya"
      },
      "source": [
        "cnn= models.Sequential([\r\n",
        "                        layers.Conv2D(filters=32, kernel_size=(3,3), activation='relu', input_shape=(32,32,3)),\r\n",
        "                        layers.MaxPooling2D((2,2)),\r\n",
        "\r\n",
        "                        layers.Conv2D(filters=64, kernel_size=(3,3), activation='relu'),\r\n",
        "                        layers.MaxPooling2D((2,2)),\r\n",
        "\r\n",
        "                        layers.Flatten(),\r\n",
        "                        layers.Dense(64, activation='relu'),\r\n",
        "                        layers.Dense(10, activation='softmax')\r\n",
        "])"
      ],
      "execution_count": 15,
      "outputs": []
    },
    {
      "cell_type": "code",
      "metadata": {
        "id": "Nw8CsrtgmI-K"
      },
      "source": [
        "cnn.compile(optimizer='adam',\r\n",
        "            loss='sparse_categorical_crossentropy',\r\n",
        "            metrics=['accuracy'])"
      ],
      "execution_count": 16,
      "outputs": []
    },
    {
      "cell_type": "code",
      "metadata": {
        "colab": {
          "base_uri": "https://localhost:8080/"
        },
        "id": "-zyYxVjIoRYc",
        "outputId": "e8c8bb01-fb71-4098-f238-08caf1b225b7"
      },
      "source": [
        "cnn.fit(X_train,y_train,epochs=10)"
      ],
      "execution_count": 17,
      "outputs": [
        {
          "output_type": "stream",
          "text": [
            "Epoch 1/10\n",
            "1563/1563 [==============================] - 59s 37ms/step - loss: 1.7254 - accuracy: 0.3743\n",
            "Epoch 2/10\n",
            "1563/1563 [==============================] - 58s 37ms/step - loss: 1.1767 - accuracy: 0.5867\n",
            "Epoch 3/10\n",
            "1563/1563 [==============================] - 57s 37ms/step - loss: 1.0190 - accuracy: 0.6465\n",
            "Epoch 4/10\n",
            "1563/1563 [==============================] - 57s 37ms/step - loss: 0.9361 - accuracy: 0.6775\n",
            "Epoch 5/10\n",
            "1563/1563 [==============================] - 58s 37ms/step - loss: 0.8653 - accuracy: 0.7009\n",
            "Epoch 6/10\n",
            "1563/1563 [==============================] - 58s 37ms/step - loss: 0.8184 - accuracy: 0.7155\n",
            "Epoch 7/10\n",
            "1563/1563 [==============================] - 58s 37ms/step - loss: 0.7674 - accuracy: 0.7358\n",
            "Epoch 8/10\n",
            "1563/1563 [==============================] - 58s 37ms/step - loss: 0.7250 - accuracy: 0.7508\n",
            "Epoch 9/10\n",
            "1563/1563 [==============================] - 59s 38ms/step - loss: 0.6785 - accuracy: 0.7617\n",
            "Epoch 10/10\n",
            "1563/1563 [==============================] - 59s 38ms/step - loss: 0.6340 - accuracy: 0.7773\n"
          ],
          "name": "stdout"
        },
        {
          "output_type": "execute_result",
          "data": {
            "text/plain": [
              "<tensorflow.python.keras.callbacks.History at 0x7f33f154b898>"
            ]
          },
          "metadata": {
            "tags": []
          },
          "execution_count": 17
        }
      ]
    },
    {
      "cell_type": "code",
      "metadata": {
        "colab": {
          "base_uri": "https://localhost:8080/"
        },
        "id": "tuh7lDg0zyQw",
        "outputId": "e6a45a2c-d2fc-4f23-aabd-09509c9d2cd1"
      },
      "source": [
        "cnn.evaluate(X_test,y_test)"
      ],
      "execution_count": 18,
      "outputs": [
        {
          "output_type": "stream",
          "text": [
            "313/313 [==============================] - 4s 11ms/step - loss: 0.9484 - accuracy: 0.6851\n"
          ],
          "name": "stdout"
        },
        {
          "output_type": "execute_result",
          "data": {
            "text/plain": [
              "[0.9483908414840698, 0.6851000189781189]"
            ]
          },
          "metadata": {
            "tags": []
          },
          "execution_count": 18
        }
      ]
    },
    {
      "cell_type": "code",
      "metadata": {
        "colab": {
          "base_uri": "https://localhost:8080/"
        },
        "id": "XqgV-Y5PzyeK",
        "outputId": "359bfd91-9748-4373-cc42-aeb06a4e630f"
      },
      "source": [
        "y_pred = cnn.predict(X_test)\r\n",
        "y_pred[:5]"
      ],
      "execution_count": 19,
      "outputs": [
        {
          "output_type": "execute_result",
          "data": {
            "text/plain": [
              "array([[3.02913319e-02, 4.28842730e-04, 7.30901118e-03, 8.04442644e-01,\n",
              "        2.23882240e-03, 3.78804095e-02, 1.02097429e-01, 8.11387377e-04,\n",
              "        1.42662544e-02, 2.33903411e-04],\n",
              "       [2.80707900e-04, 1.36817992e-02, 1.62396816e-08, 4.47568276e-08,\n",
              "        6.50187126e-10, 1.28233091e-09, 3.04035130e-11, 9.59500479e-10,\n",
              "        9.85949039e-01, 8.83392713e-05],\n",
              "       [3.13031636e-02, 3.44589174e-01, 5.41779504e-04, 2.42565502e-03,\n",
              "        2.35980377e-04, 5.34040628e-05, 1.48414456e-05, 4.40908887e-04,\n",
              "        6.13198698e-01, 7.19637424e-03],\n",
              "       [8.10664415e-01, 8.53969995e-03, 3.08552105e-03, 4.66133097e-05,\n",
              "        1.67129487e-02, 1.14299428e-06, 6.13798557e-06, 7.07483059e-06,\n",
              "        1.60770804e-01, 1.65540885e-04],\n",
              "       [1.83736411e-05, 2.58129512e-05, 4.52561397e-03, 1.10835945e-02,\n",
              "        8.51364970e-01, 1.15844316e-03, 1.31666824e-01, 8.73552344e-05,\n",
              "        6.87942374e-05, 1.73254165e-07]], dtype=float32)"
            ]
          },
          "metadata": {
            "tags": []
          },
          "execution_count": 19
        }
      ]
    },
    {
      "cell_type": "code",
      "metadata": {
        "colab": {
          "base_uri": "https://localhost:8080/"
        },
        "id": "V_Jtu9dS0OIu",
        "outputId": "7c9e4aa2-8f1b-441b-c104-bc531b68bede"
      },
      "source": [
        "y_classes = [np.argmax(element) for element in y_pred]\r\n",
        "y_classes[:5]"
      ],
      "execution_count": 20,
      "outputs": [
        {
          "output_type": "execute_result",
          "data": {
            "text/plain": [
              "[3, 8, 8, 0, 4]"
            ]
          },
          "metadata": {
            "tags": []
          },
          "execution_count": 20
        }
      ]
    },
    {
      "cell_type": "code",
      "metadata": {
        "colab": {
          "base_uri": "https://localhost:8080/"
        },
        "id": "2lVr4RZn0OWh",
        "outputId": "60e62490-05d3-4f18-8f82-0db96a93d599"
      },
      "source": [
        "y_test[:5]"
      ],
      "execution_count": 21,
      "outputs": [
        {
          "output_type": "execute_result",
          "data": {
            "text/plain": [
              "array([3, 8, 8, 0, 6], dtype=uint8)"
            ]
          },
          "metadata": {
            "tags": []
          },
          "execution_count": 21
        }
      ]
    },
    {
      "cell_type": "code",
      "metadata": {
        "colab": {
          "base_uri": "https://localhost:8080/",
          "height": 173
        },
        "id": "4ihqTRWe0Wt5",
        "outputId": "86aa20d5-395a-40b8-8c16-6703e3606f91"
      },
      "source": [
        "plot_sample(X_test, y_test,3)"
      ],
      "execution_count": 22,
      "outputs": [
        {
          "output_type": "display_data",
          "data": {
            "image/png": "[encoded data removed]",
            "text/plain": [
              "<Figure size 1080x144 with 1 Axes>"
            ]
          },
          "metadata": {
            "tags": [],
            "needs_background": "light"
          }
        }
      ]
    },
    {
      "cell_type": "code",
      "metadata": {
        "colab": {
          "base_uri": "https://localhost:8080/",
          "height": 35
        },
        "id": "RpNuJc-A0aeK",
        "outputId": "254fb521-bdce-4594-cdab-5757ef14f33f"
      },
      "source": [
        "classes[y_classes[3]]"
      ],
      "execution_count": 23,
      "outputs": [
        {
          "output_type": "execute_result",
          "data": {
            "application/vnd.google.colaboratory.intrinsic+json": {
              "type": "string"
            },
            "text/plain": [
              "'airplane'"
            ]
          },
          "metadata": {
            "tags": []
          },
          "execution_count": 23
        }
      ]
    },
    {
      "cell_type": "code",
      "metadata": {
        "id": "jF1SSfm20bAI"
      },
      "source": [
        ""
      ],
      "execution_count": null,
      "outputs": []
    }
  ]
}